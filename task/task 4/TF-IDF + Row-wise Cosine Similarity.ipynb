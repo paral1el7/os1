{
 "cells": [
  {
   "cell_type": "code",
   "execution_count": 1,
   "id": "e2e62447",
   "metadata": {},
   "outputs": [
    {
     "name": "stdout",
     "output_type": "stream",
     "text": [
      "相似度平均值: 0.1139\n",
      "相似度中位数: 0.0405\n",
      "相似度最大值: 0.7989\n",
      "相似度最小值: 0.0000\n",
      "已将相似度结果保存到 'Task4_data_with_similarity.xlsx'\n",
      "\n",
      "前5行的相似度值:\n",
      "行 1: 0.3838\n",
      "行 2: 0.2534\n",
      "行 3: 0.0000\n",
      "行 4: 0.0000\n",
      "行 5: 0.0771\n"
     ]
    }
   ],
   "source": [
    "import pandas as pd\n",
    "import numpy as np\n",
    "from sklearn.feature_extraction.text import TfidfVectorizer\n",
    "from sklearn.metrics.pairwise import cosine_similarity\n",
    "\n",
    "# 加载Excel文件\n",
    "df = pd.read_excel('Task4_data.xlsx')\n",
    "\n",
    "# 确保数据列存在\n",
    "if 'Human_answers' not in df.columns or 'processed_AI_sentenc' not in df.columns:\n",
    "    print(\"错误：数据文件中缺少必要的列名\")\n",
    "    exit()\n",
    "\n",
    "# 将NaN值替换为空字符串\n",
    "df['Human_answers'] = df['Human_answers'].fillna('')\n",
    "df['processed_AI_sentenc'] = df['processed_AI_sentenc'].fillna('')\n",
    "\n",
    "# 创建TF-IDF向量化器\n",
    "vectorizer = TfidfVectorizer()\n",
    "\n",
    "# 所有文本列表\n",
    "all_texts = list(df['Human_answers']) + list(df['processed_AI_sentenc'])\n",
    "\n",
    "# 训练向量化器并转换所有文本\n",
    "tfidf_matrix = vectorizer.fit_transform(all_texts)\n",
    "\n",
    "# 分离出human和AI的向量\n",
    "human_vectors = tfidf_matrix[:len(df)]\n",
    "ai_vectors = tfidf_matrix[len(df):]\n",
    "\n",
    "# 计算每一对文本之间的余弦相似度\n",
    "similarities = []\n",
    "for i in range(len(df)):\n",
    "    # 计算当前行的human和AI文本之间的余弦相似度\n",
    "    similarity = cosine_similarity(human_vectors[i], ai_vectors[i])[0][0]\n",
    "    similarities.append(similarity)\n",
    "\n",
    "# 将相似度值添加到DataFrame\n",
    "df['cosine_similarity'] = similarities\n",
    "\n",
    "# 打印基本统计信息\n",
    "print(f\"相似度平均值: {np.mean(similarities):.4f}\")\n",
    "print(f\"相似度中位数: {np.median(similarities):.4f}\")\n",
    "print(f\"相似度最大值: {np.max(similarities):.4f}\")\n",
    "print(f\"相似度最小值: {np.min(similarities):.4f}\")\n",
    "\n",
    "# 将结果保存到新的Excel文件\n",
    "df.to_excel('Task4_data_with_similarity.xlsx', index=False)\n",
    "\n",
    "print(f\"已将相似度结果保存到 'Task4_data_with_similarity.xlsx'\")\n",
    "\n",
    "# 打印前5行的相似度值示例\n",
    "print(\"\\n前5行的相似度值:\")\n",
    "for i in range(min(5, len(df))):\n",
    "    print(f\"行 {i+1}: {similarities[i]:.4f}\")"
   ]
  }
 ],
 "metadata": {
  "kernelspec": {
   "display_name": "base",
   "language": "python",
   "name": "python3"
  },
  "language_info": {
   "codemirror_mode": {
    "name": "ipython",
    "version": 3
   },
   "file_extension": ".py",
   "mimetype": "text/x-python",
   "name": "python",
   "nbconvert_exporter": "python",
   "pygments_lexer": "ipython3",
   "version": "3.11.5"
  }
 },
 "nbformat": 4,
 "nbformat_minor": 5
}
